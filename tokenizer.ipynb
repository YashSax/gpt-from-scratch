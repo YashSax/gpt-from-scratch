{
 "cells": [
  {
   "cell_type": "code",
   "execution_count": 1,
   "metadata": {},
   "outputs": [],
   "source": [
    "import json\n",
    "with open(\"input.txt\", 'r', encoding='utf-8') as f:\n",
    "    text = f.read()"
   ]
  },
  {
   "cell_type": "code",
   "execution_count": 2,
   "metadata": {},
   "outputs": [],
   "source": [
    "corpus = list(set(text.split()))\n",
    "vocab = set()\n",
    "pair_scores = {}\n",
    "\n",
    "for word in corpus:\n",
    "    split = []\n",
    "    for idx, letter in enumerate(word):\n",
    "        split.append(letter if idx == 0 else \"##\" + letter)\n",
    "    vocab.update(split)"
   ]
  },
  {
   "cell_type": "code",
   "execution_count": 3,
   "metadata": {},
   "outputs": [],
   "source": [
    "from tqdm import tqdm\n",
    "\n",
    "def get_word_from_token(token):\n",
    "    if token[0] == \"#\":\n",
    "        return token[2:]\n",
    "    return token\n",
    "\n",
    "def combine_pair(pair):\n",
    "    ''' ex. 'h' and '##e' become 'he' '''\n",
    "    return pair[0] + get_word_from_token(pair[1])\n",
    "\n",
    "def get_frequency_from_token(token):\n",
    "    word = get_word_from_token(token)\n",
    "    frequency = 0\n",
    "\n",
    "    for item in corpus:\n",
    "        for i in range(len(item) - len(token) + 1):\n",
    "            if word == item[i : i + len(token)]:\n",
    "                frequency += 1\n",
    "    return frequency\n",
    "\n",
    "def get_score_from_pair(pair):\n",
    "    ''' The score of a pair is freq(pair) / (freq(pair[0]) * freq(pair[1]))'''\n",
    "    word1 = get_word_from_token(pair[0])\n",
    "    word2 = get_word_from_token(pair[1])\n",
    "    combined_word = get_word_from_token(combine_pair(pair))\n",
    "\n",
    "    combined_freq = get_frequency_from_token(combined_word)\n",
    "    # freq1 = get_frequency_from_token(word1)\n",
    "    # freq2 = get_frequency_from_token(word2)\n",
    "\n",
    "    return combined_freq\n",
    "\n",
    "def find_best_pair(pairs):\n",
    "    global pair_scores\n",
    "    best_pair, best_score = 0, 0\n",
    "\n",
    "    for pair in pairs:\n",
    "        if pair not in pair_scores:\n",
    "            pair_scores[pair] = get_score_from_pair(pair)\n",
    "        \n",
    "        score = pair_scores[pair]\n",
    "              \n",
    "        if score >= best_score:\n",
    "            best_score = score\n",
    "            best_pair = pair\n",
    "    \n",
    "    return best_pair, best_score"
   ]
  },
  {
   "cell_type": "code",
   "execution_count": 4,
   "metadata": {},
   "outputs": [],
   "source": [
    "def token_equality(token, index, subword):\n",
    "    if not get_word_from_token(token) == subword:\n",
    "        return False\n",
    "    if index == 0 and token[0] == \"#\":\n",
    "        return False\n",
    "    if index != 0 and token[0] != \"#\":\n",
    "        return False\n",
    "    return True\n",
    "\n",
    "def tokenize(word):\n",
    "    tokenized = []\n",
    "    ptr = 0\n",
    "\n",
    "    while ptr < len(word):\n",
    "        remaining_word = word[ptr:]\n",
    "\n",
    "        for i in range(len(remaining_word), 0, -1):\n",
    "            subword = remaining_word[:i]\n",
    "            found = False\n",
    "            for token in vocab:\n",
    "                if token_equality(token, ptr, subword):\n",
    "                    tokenized.append(token)\n",
    "                    ptr += len(subword)\n",
    "                    found = True\n",
    "                    break\n",
    "            if found:\n",
    "                break\n",
    "    \n",
    "    return tokenized\n",
    "\n",
    "def get_pairs_from_vocab(vocab):\n",
    "    pairs = set()\n",
    "    for word in corpus:\n",
    "        tokenized_word = tokenize(word)\n",
    "        pairs.update([(tokenized_word[i], tokenized_word[i+1]) for i in range(len(tokenized_word) - 1)])\n",
    "    return pairs"
   ]
  },
  {
   "cell_type": "code",
   "execution_count": 7,
   "metadata": {},
   "outputs": [
    {
     "name": "stderr",
     "output_type": "stream",
     "text": [
      "100%|██████████| 500/500 [2:46:49<00:00, 20.02s/it]  \n"
     ]
    }
   ],
   "source": [
    "for _ in tqdm(range(500)):\n",
    "    pairs = get_pairs_from_vocab(vocab)\n",
    "    best_pair, best_score = find_best_pair(pairs)\n",
    "    best_pair = combine_pair(best_pair)\n",
    "    vocab.add(best_pair)\n",
    "\n",
    "with open(\"tokenizer_tokens\", 'w') as f:\n",
    "    json.dump(list(vocab), f)"
   ]
  },
  {
   "cell_type": "code",
   "execution_count": null,
   "metadata": {},
   "outputs": [],
   "source": []
  }
 ],
 "metadata": {
  "kernelspec": {
   "display_name": "gpt-from-scratch",
   "language": "python",
   "name": "python3"
  },
  "language_info": {
   "codemirror_mode": {
    "name": "ipython",
    "version": 3
   },
   "file_extension": ".py",
   "mimetype": "text/x-python",
   "name": "python",
   "nbconvert_exporter": "python",
   "pygments_lexer": "ipython3",
   "version": "3.11.3"
  },
  "orig_nbformat": 4
 },
 "nbformat": 4,
 "nbformat_minor": 2
}
